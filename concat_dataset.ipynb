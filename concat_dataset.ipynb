{
 "cells": [
  {
   "cell_type": "code",
   "execution_count": 1,
   "id": "79b02511",
   "metadata": {},
   "outputs": [
    {
     "name": "stdout",
     "output_type": "stream",
     "text": [
      "Dataset gabungan dengan 600 baris berhasil dibuat dan disimpan.\n"
     ]
    }
   ],
   "source": [
    "import pandas as pd\n",
    "import numpy as np\n",
    "\n",
    "# Jumlah data sintetik yang akan dibuat\n",
    "n = 140\n",
    "\n",
    "# Load dataset asli (misal 400 baris)\n",
    "df1 = pd.read_csv('Sleep_health_and_lifestyle_dataset.csv')\n",
    "\n",
    "# Buat ID unik untuk data sintetik\n",
    "person_ids = np.arange(1001, 1001 + n)\n",
    "\n",
    "# Generate 200 baris data sintetik\n",
    "syn = pd.DataFrame({\n",
    "    'Person ID': person_ids,\n",
    "    'Gender': np.random.choice(['Male', 'Female'], n),\n",
    "    'Age': np.random.randint(18, 65, n),\n",
    "    'Occupation': np.random.choice(['Student', 'Engineer', 'Teacher', 'Doctor', 'Nurse', 'Scientist'], n),\n",
    "    'Sleep Duration': np.round(np.random.normal(7, 1.5, n).clip(3, 10), 1),\n",
    "    'Quality of Sleep': np.random.randint(1, 11, n),\n",
    "    'Physical Activity Level': np.random.randint(0, 100, n),\n",
    "    'Stress Level': np.random.randint(1, 11, n),\n",
    "    'BMI Category': np.random.choice(['Normal', 'Overweight', 'Obese', 'Underweight'], n),\n",
    "    'Blood Pressure': np.random.choice(['120/80', '130/90', '140/95', '110/70'], n),\n",
    "    'Heart Rate': np.random.randint(60, 100, n),\n",
    "    'Daily Steps': np.random.randint(1000, 15000, n),\n",
    "    'Sleep Disorder': np.random.choice(['None', 'Insomnia', 'Sleep Apnea'], n)\n",
    "})\n",
    "\n",
    "df1_sample = df1\n",
    "\n",
    "# Gabungkan dataset asli dan sintetik\n",
    "df_total = pd.concat([df1_sample, syn], ignore_index=True)\n",
    "\n",
    "# Simpan ke file\n",
    "df_total.to_csv('sleep_lifestyle_dataset.csv', index=False)\n",
    "\n",
    "print(\"Dataset gabungan dengan 600 baris berhasil dibuat dan disimpan.\")\n"
   ]
  }
 ],
 "metadata": {
  "kernelspec": {
   "display_name": "Python 3",
   "language": "python",
   "name": "python3"
  },
  "language_info": {
   "codemirror_mode": {
    "name": "ipython",
    "version": 3
   },
   "file_extension": ".py",
   "mimetype": "text/x-python",
   "name": "python",
   "nbconvert_exporter": "python",
   "pygments_lexer": "ipython3",
   "version": "3.11.9"
  }
 },
 "nbformat": 4,
 "nbformat_minor": 5
}
